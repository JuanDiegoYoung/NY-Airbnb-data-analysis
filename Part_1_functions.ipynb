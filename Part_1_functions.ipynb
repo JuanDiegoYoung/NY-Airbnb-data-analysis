{
 "cells": [
  {
   "cell_type": "code",
   "execution_count": null,
   "metadata": {},
   "outputs": [],
   "source": [
    "import re\n",
    "import pandas as pd\n",
    "import matplotlib.pyplot as plt"
   ]
  },
  {
   "cell_type": "markdown",
   "metadata": {},
   "source": [
    "## Funciones utilizadas (en orden de aparición)"
   ]
  },
  {
   "cell_type": "code",
   "execution_count": null,
   "metadata": {},
   "outputs": [],
   "source": [
    "def valores_invalidos(col: pd.Series) -> pd.Series:\n",
    "    \"\"\"\n",
    "    Retorna una Serie booleana indicando qué valores son inválidos: nulos, vacíos, '-', o 'nan' como string.\n",
    "\n",
    "    Parámetros:\n",
    "    col : pd.Series\n",
    "\n",
    "    Retorna:\n",
    "    pd.Series\n",
    "    \"\"\"\n",
    "    return col.isnull() | (col == '') | (col == '-') | (col.astype(str).str.lower() == 'nan')\n"
   ]
  },
  {
   "cell_type": "code",
   "execution_count": null,
   "metadata": {},
   "outputs": [],
   "source": [
    "def map_ny(df: pd.DataFrame) -> None:\n",
    "    \"\"\"\n",
    "    Genera un scatter plot geográfico de los datos de NYC usando columnas 'longitude' y 'latitude'.\n",
    "\n",
    "    Muestra la ubicación aproximada de los cinco boroughs principales con etiquetas.\n",
    "    No retorna nada, solo muestra el gráfico.\n",
    "\n",
    "    Parámetros:\n",
    "    df : pd.DataFrame\n",
    "        DataFrame que debe contener las columnas 'longitude' y 'latitude'.\n",
    "    \"\"\"\n",
    "    # plot geographical distribution of NYC\n",
    "    fig, ax = plt.subplots(figsize=(10, 8))\n",
    "    ax = df.plot(kind='scatter', x='longitude', y='latitude', alpha=0.6, s=2, cmap=plt.get_cmap('inferno'), ax=ax)\n",
    "    ax.set_title('Geographical Distribution of NYC', fontsize=16, fontweight='bold')\n",
    "\n",
    "\n",
    "    # add labels for each borough\n",
    "    ax.text(-73.971, 40.776, 'Manhattan', fontsize=12, color='white', bbox=dict(alpha=0.8, boxstyle='round'))\n",
    "    ax.text(-73.950, 40.650, 'Brooklyn', fontsize=12, color='white', bbox=dict(alpha=0.8, boxstyle='round'))\n",
    "    ax.text(-73.7949, 40.728, 'Queens', fontsize=12, color='white', bbox=dict(alpha=0.8, boxstyle='round'))\n",
    "    ax.text(-73.865, 40.837, 'Bronx', fontsize=12, color='white', bbox=dict(alpha=0.8, boxstyle='round'))\n",
    "    ax.text(-74.15, 40.579, 'Staten Island', fontsize=12, color='white', bbox=dict(alpha=0.8, boxstyle='round'))\n",
    "\n",
    "    # remove axes labels and ticks\n",
    "    ax.set_xlabel('longitude')\n",
    "    ax.set_ylabel('latitude')\n",
    "    ax.set_xticks([])\n",
    "    ax.set_yticks([])"
   ]
  },
  {
   "cell_type": "code",
   "execution_count": null,
   "metadata": {},
   "outputs": [],
   "source": [
    "def extraer_no_numerico(col: pd.Series) -> list:\n",
    "    \"\"\"\n",
    "    Devuelve la parte no numérica de cada valor en la Serie. Si es numérico, retorna ''.\n",
    "    \n",
    "    \"\"\"\n",
    "    return [re.sub(r\"\\d+(\\.\\d+)?\", \"\", str(x)).strip() if re.search(r\"\\D\", str(x)) else '' for x in col]\n"
   ]
  },
  {
   "cell_type": "code",
   "execution_count": null,
   "metadata": {},
   "outputs": [],
   "source": [
    "def extraer_numerico(col: pd.Series) -> list:\n",
    "    \"\"\"\n",
    "    Devuelve la parte numérica (entera o decimal) de cada valor en la Serie. Si no hay número, retorna ''.\n",
    "    \"\"\"\n",
    "    return [re.findall(r\"\\d+(?:\\.\\d+)?\", str(x))[0] if re.findall(r\"\\d+(?:\\.\\d+)?\", str(x)) else '' for x in col]\n"
   ]
  },
  {
   "cell_type": "code",
   "execution_count": null,
   "metadata": {},
   "outputs": [],
   "source": [
    "def generate_boxplot_from_list(data: list) -> None:\n",
    "    \"\"\"\n",
    "    Muestra un boxplot horizontal para visualizar anomalías en precios.\n",
    "\n",
    "    Parámetros:\n",
    "    data : list\n",
    "        Lista de valores numéricos a graficar.\n",
    "    \"\"\"\n",
    "    plt.figure(figsize=(8, 4))\n",
    "    plt.boxplot(data, vert=False)\n",
    "    plt.grid(True)\n",
    "    plt.xlabel(\"price\")\n",
    "    plt.title(\"anomalías en los precios\")\n",
    "    plt.show()\n"
   ]
  },
  {
   "cell_type": "code",
   "execution_count": null,
   "metadata": {},
   "outputs": [],
   "source": [
    "def plot_int_histogram(integer_list: list, bins: int, xlim: int) -> None:\n",
    "    \"\"\"\n",
    "    Muestra un histograma de frecuencias para una lista de valores enteros.\n",
    "\n",
    "    Parámetros:\n",
    "    integer_list : list\n",
    "        Lista de valores numéricos a graficar.\n",
    "    bins : int\n",
    "        Cantidad de bins del histograma.\n",
    "    xlim : int\n",
    "        Límite superior del eje x.\n",
    "    \"\"\"\n",
    "    plt.hist(integer_list, bins=bins, edgecolor='black')\n",
    "    plt.title('Price distribution in NYC')\n",
    "    plt.xlim(0, xlim)\n",
    "    plt.xlabel('Price')\n",
    "    plt.ylabel('Frequency')\n",
    "    plt.grid(True)\n",
    "    plt.show()\n"
   ]
  },
  {
   "cell_type": "code",
   "execution_count": null,
   "metadata": {},
   "outputs": [],
   "source": [
    "def plot_price_stats(df, categoria, top_n=100):\n",
    "    \"\"\"\n",
    "    Genera gráficos de barras con las estadísticas (media, mediana, máximo y mínimo) \n",
    "    de precios agrupados por una categoría.\n",
    "\n",
    "    Parámetros:\n",
    "    df : pd.DataFrame\n",
    "        DataFrame que contiene la columna 'price' y la categoría a agrupar.\n",
    "    categoria : str\n",
    "        Nombre de la columna categórica por la que se agruparán los datos.\n",
    "    top_n : int, opcional\n",
    "        Número de categorías a mostrar, ordenadas por precio medio (default: 100).\n",
    "    \"\"\"\n",
    "    stats = df.groupby(categoria)['price'].agg(['mean', 'median', 'max', 'min'])\n",
    "    stats = stats.sort_values('mean', ascending=False).head(top_n)\n",
    "\n",
    "    for columna in ['mean', 'median', 'max', 'min']:\n",
    "        plt.figure(figsize=(14, 6))\n",
    "        plt.bar(stats.index, stats[columna])\n",
    "        plt.xticks(rotation=90)\n",
    "        plt.title(f'{columna.capitalize()} de precios por {categoria} (Top {top_n})')\n",
    "        plt.ylabel('Precio')\n",
    "        plt.grid(axis='y', linestyle='--', alpha=0.5)\n",
    "        plt.tight_layout()\n",
    "        plt.show()\n"
   ]
  },
  {
   "cell_type": "code",
   "execution_count": null,
   "metadata": {},
   "outputs": [],
   "source": [
    "\n",
    "def plot_map_with_prices(df_final : pd.DataFrame) -> None:\n",
    "    \"\"\"\n",
    "    Muestra un scatter plot georreferenciado de los precios en NYC usando latitud, longitud y color.\n",
    "\n",
    "    Incluye etiquetas de los boroughs y una barra de color que representa el rango de precios.\n",
    "\n",
    "    Parámetros:\n",
    "    df_final : pd.DataFrame\n",
    "        DataFrame con las columnas 'latitude', 'longitude' y 'price'.\n",
    "    \"\"\"\n",
    "\n",
    "    # plot geographical distribution of NYC\n",
    "    fig, ax = plt.subplots(figsize=(10, 8))\n",
    "    ax = df_final.plot(kind='scatter', x='longitude', y='latitude', alpha=0.6, c=df_final['price'], s=2, cmap=plt.get_cmap('viridis'), colorbar=True, ax=ax)\n",
    "    ax.set_title('Geographical Distribution of NYC', fontsize=16, fontweight='bold')\n",
    "\n",
    "    # set the range of the colorbar to [0, 1000]\n",
    "    colorbar = ax.collections[0].colorbar\n",
    "    colorbar.set_ticks([0, 500, 1000])\n",
    "    colorbar.set_ticklabels(['$0', '$500', '$1000'])\n",
    "    ax.collections[0].colorbar.mappable.set_clim([0,1000])\n",
    "\n",
    "    # add labels for each borough\n",
    "    ax.text(-73.971, 40.776, 'Manhattan', fontsize=12, color='white', bbox=dict(facecolor='purple', alpha=0.8, boxstyle='round'))\n",
    "    ax.text(-73.950, 40.650, 'Brooklyn', fontsize=12, color='white', bbox=dict(facecolor='purple', alpha=0.8, boxstyle='round'))\n",
    "    ax.text(-73.7949, 40.728, 'Queens', fontsize=12, color='white', bbox=dict(facecolor='purple', alpha=0.8, boxstyle='round'))\n",
    "    ax.text(-73.865, 40.837, 'Bronx', fontsize=12, color='white', bbox=dict(facecolor='purple', alpha=0.8, boxstyle='round'))\n",
    "    ax.text(-74.15, 40.579, 'Staten Island', fontsize=12, color='white', bbox=dict(facecolor='purple', alpha=0.8, boxstyle='round'))\n",
    "\n",
    "    # remove axes labels and ticks\n",
    "    ax.set_xlabel('')\n",
    "    ax.set_ylabel('')\n",
    "    ax.set_xticks([])\n",
    "    ax.set_yticks([])\n",
    "\n",
    "    plt.show()"
   ]
  }
 ],
 "metadata": {
  "kernelspec": {
   "display_name": "Python 3",
   "language": "python",
   "name": "python3"
  },
  "language_info": {
   "name": "python",
   "version": "3.9.18"
  }
 },
 "nbformat": 4,
 "nbformat_minor": 2
}
