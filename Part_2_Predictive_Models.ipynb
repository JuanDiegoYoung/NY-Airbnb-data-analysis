{
 "cells": [
  {
   "cell_type": "markdown",
   "metadata": {},
   "source": [
    "# Imports"
   ]
  },
  {
   "cell_type": "code",
   "execution_count": 1,
   "metadata": {},
   "outputs": [],
   "source": [
    "import warnings\n",
    "\n",
    "import pandas as pd\n",
    "import matplotlib.pyplot as plt\n",
    "from sklearn.model_selection import train_test_split\n",
    "\n",
    "from sklearn.exceptions import UndefinedMetricWarning\n",
    "\n",
    "from IPython.display import clear_output\n",
    "\n",
    "\n",
    "%run functions_wines.ipynb\n",
    "warnings.filterwarnings(\"ignore\", category=UndefinedMetricWarning)\n"
   ]
  },
  {
   "cell_type": "markdown",
   "metadata": {},
   "source": [
    "# Carga de datos"
   ]
  },
  {
   "cell_type": "code",
   "execution_count": 2,
   "metadata": {},
   "outputs": [],
   "source": [
    "df = pd.read_csv(\"VinhoVerde.csv\")"
   ]
  },
  {
   "cell_type": "markdown",
   "metadata": {},
   "source": [
    "# EDA"
   ]
  },
  {
   "cell_type": "code",
   "execution_count": 3,
   "metadata": {},
   "outputs": [
    {
     "name": "stdout",
     "output_type": "stream",
     "text": [
      "<class 'pandas.core.frame.DataFrame'>\n",
      "RangeIndex: 1599 entries, 0 to 1598\n",
      "Data columns (total 12 columns):\n",
      " #   Column                Non-Null Count  Dtype  \n",
      "---  ------                --------------  -----  \n",
      " 0   fixed acidity         1599 non-null   float64\n",
      " 1   volatile acidity      1599 non-null   float64\n",
      " 2   citric acid           1599 non-null   float64\n",
      " 3   residual sugar        1599 non-null   float64\n",
      " 4   chlorides             1599 non-null   float64\n",
      " 5   free sulfur dioxide   1599 non-null   float64\n",
      " 6   total sulfur dioxide  1599 non-null   float64\n",
      " 7   density               1599 non-null   float64\n",
      " 8   pH                    1599 non-null   float64\n",
      " 9   sulphates             1599 non-null   float64\n",
      " 10  alcohol               1599 non-null   float64\n",
      " 11  quality               1599 non-null   int64  \n",
      "dtypes: float64(11), int64(1)\n",
      "memory usage: 150.0 KB\n"
     ]
    }
   ],
   "source": [
    "df.info()"
   ]
  },
  {
   "cell_type": "markdown",
   "metadata": {},
   "source": [
    "No hay datos faltantes, y todos son números, lo cuál simplificará el análisis."
   ]
  },
  {
   "cell_type": "code",
   "execution_count": 4,
   "metadata": {},
   "outputs": [
    {
     "data": {
      "application/vnd.microsoft.datawrangler.viewer.v0+json": {
       "columns": [
        {
         "name": "index",
         "rawType": "object",
         "type": "string"
        },
        {
         "name": "fixed acidity",
         "rawType": "float64",
         "type": "float"
        },
        {
         "name": "volatile acidity",
         "rawType": "float64",
         "type": "float"
        },
        {
         "name": "citric acid",
         "rawType": "float64",
         "type": "float"
        },
        {
         "name": "residual sugar",
         "rawType": "float64",
         "type": "float"
        },
        {
         "name": "chlorides",
         "rawType": "float64",
         "type": "float"
        },
        {
         "name": "free sulfur dioxide",
         "rawType": "float64",
         "type": "float"
        },
        {
         "name": "total sulfur dioxide",
         "rawType": "float64",
         "type": "float"
        },
        {
         "name": "density",
         "rawType": "float64",
         "type": "float"
        },
        {
         "name": "pH",
         "rawType": "float64",
         "type": "float"
        },
        {
         "name": "sulphates",
         "rawType": "float64",
         "type": "float"
        },
        {
         "name": "alcohol",
         "rawType": "float64",
         "type": "float"
        },
        {
         "name": "quality",
         "rawType": "float64",
         "type": "float"
        }
       ],
       "conversionMethod": "pd.DataFrame",
       "ref": "c4ad6616-bc07-4f99-87a3-4e69148aadc6",
       "rows": [
        [
         "count",
         "1599.0",
         "1599.0",
         "1599.0",
         "1599.0",
         "1599.0",
         "1599.0",
         "1599.0",
         "1599.0",
         "1599.0",
         "1599.0",
         "1599.0",
         "1599.0"
        ],
        [
         "mean",
         "8.31963727329581",
         "0.5278205128205128",
         "0.2709756097560976",
         "2.53880550343965",
         "0.08746654158849279",
         "15.874921826141339",
         "46.46779237023139",
         "0.9967466791744841",
         "3.3111131957473416",
         "0.6581488430268917",
         "10.422983114446529",
         "5.6360225140712945"
        ],
        [
         "std",
         "1.7410963181276953",
         "0.17905970415353537",
         "0.19480113740531857",
         "1.4099280595072798",
         "0.0470653020100901",
         "10.460156969809725",
         "32.895324478299074",
         "0.0018873339538425554",
         "0.15438646490354277",
         "0.16950697959010996",
         "1.0656675818473946",
         "0.807569439734705"
        ],
        [
         "min",
         "4.6",
         "0.12",
         "0.0",
         "0.9",
         "0.012",
         "1.0",
         "6.0",
         "0.99007",
         "2.74",
         "0.33",
         "8.4",
         "3.0"
        ],
        [
         "25%",
         "7.1",
         "0.39",
         "0.09",
         "1.9",
         "0.07",
         "7.0",
         "22.0",
         "0.9956",
         "3.21",
         "0.55",
         "9.5",
         "5.0"
        ],
        [
         "50%",
         "7.9",
         "0.52",
         "0.26",
         "2.2",
         "0.079",
         "14.0",
         "38.0",
         "0.99675",
         "3.31",
         "0.62",
         "10.2",
         "6.0"
        ],
        [
         "75%",
         "9.2",
         "0.64",
         "0.42",
         "2.6",
         "0.09",
         "21.0",
         "62.0",
         "0.997835",
         "3.4",
         "0.73",
         "11.1",
         "6.0"
        ],
        [
         "max",
         "15.9",
         "1.58",
         "1.0",
         "15.5",
         "0.611",
         "72.0",
         "289.0",
         "1.00369",
         "4.01",
         "2.0",
         "14.9",
         "8.0"
        ]
       ],
       "shape": {
        "columns": 12,
        "rows": 8
       }
      },
      "text/html": [
       "<div>\n",
       "<style scoped>\n",
       "    .dataframe tbody tr th:only-of-type {\n",
       "        vertical-align: middle;\n",
       "    }\n",
       "\n",
       "    .dataframe tbody tr th {\n",
       "        vertical-align: top;\n",
       "    }\n",
       "\n",
       "    .dataframe thead th {\n",
       "        text-align: right;\n",
       "    }\n",
       "</style>\n",
       "<table border=\"1\" class=\"dataframe\">\n",
       "  <thead>\n",
       "    <tr style=\"text-align: right;\">\n",
       "      <th></th>\n",
       "      <th>fixed acidity</th>\n",
       "      <th>volatile acidity</th>\n",
       "      <th>citric acid</th>\n",
       "      <th>residual sugar</th>\n",
       "      <th>chlorides</th>\n",
       "      <th>free sulfur dioxide</th>\n",
       "      <th>total sulfur dioxide</th>\n",
       "      <th>density</th>\n",
       "      <th>pH</th>\n",
       "      <th>sulphates</th>\n",
       "      <th>alcohol</th>\n",
       "      <th>quality</th>\n",
       "    </tr>\n",
       "  </thead>\n",
       "  <tbody>\n",
       "    <tr>\n",
       "      <th>count</th>\n",
       "      <td>1599.000000</td>\n",
       "      <td>1599.000000</td>\n",
       "      <td>1599.000000</td>\n",
       "      <td>1599.000000</td>\n",
       "      <td>1599.000000</td>\n",
       "      <td>1599.000000</td>\n",
       "      <td>1599.000000</td>\n",
       "      <td>1599.000000</td>\n",
       "      <td>1599.000000</td>\n",
       "      <td>1599.000000</td>\n",
       "      <td>1599.000000</td>\n",
       "      <td>1599.000000</td>\n",
       "    </tr>\n",
       "    <tr>\n",
       "      <th>mean</th>\n",
       "      <td>8.319637</td>\n",
       "      <td>0.527821</td>\n",
       "      <td>0.270976</td>\n",
       "      <td>2.538806</td>\n",
       "      <td>0.087467</td>\n",
       "      <td>15.874922</td>\n",
       "      <td>46.467792</td>\n",
       "      <td>0.996747</td>\n",
       "      <td>3.311113</td>\n",
       "      <td>0.658149</td>\n",
       "      <td>10.422983</td>\n",
       "      <td>5.636023</td>\n",
       "    </tr>\n",
       "    <tr>\n",
       "      <th>std</th>\n",
       "      <td>1.741096</td>\n",
       "      <td>0.179060</td>\n",
       "      <td>0.194801</td>\n",
       "      <td>1.409928</td>\n",
       "      <td>0.047065</td>\n",
       "      <td>10.460157</td>\n",
       "      <td>32.895324</td>\n",
       "      <td>0.001887</td>\n",
       "      <td>0.154386</td>\n",
       "      <td>0.169507</td>\n",
       "      <td>1.065668</td>\n",
       "      <td>0.807569</td>\n",
       "    </tr>\n",
       "    <tr>\n",
       "      <th>min</th>\n",
       "      <td>4.600000</td>\n",
       "      <td>0.120000</td>\n",
       "      <td>0.000000</td>\n",
       "      <td>0.900000</td>\n",
       "      <td>0.012000</td>\n",
       "      <td>1.000000</td>\n",
       "      <td>6.000000</td>\n",
       "      <td>0.990070</td>\n",
       "      <td>2.740000</td>\n",
       "      <td>0.330000</td>\n",
       "      <td>8.400000</td>\n",
       "      <td>3.000000</td>\n",
       "    </tr>\n",
       "    <tr>\n",
       "      <th>25%</th>\n",
       "      <td>7.100000</td>\n",
       "      <td>0.390000</td>\n",
       "      <td>0.090000</td>\n",
       "      <td>1.900000</td>\n",
       "      <td>0.070000</td>\n",
       "      <td>7.000000</td>\n",
       "      <td>22.000000</td>\n",
       "      <td>0.995600</td>\n",
       "      <td>3.210000</td>\n",
       "      <td>0.550000</td>\n",
       "      <td>9.500000</td>\n",
       "      <td>5.000000</td>\n",
       "    </tr>\n",
       "    <tr>\n",
       "      <th>50%</th>\n",
       "      <td>7.900000</td>\n",
       "      <td>0.520000</td>\n",
       "      <td>0.260000</td>\n",
       "      <td>2.200000</td>\n",
       "      <td>0.079000</td>\n",
       "      <td>14.000000</td>\n",
       "      <td>38.000000</td>\n",
       "      <td>0.996750</td>\n",
       "      <td>3.310000</td>\n",
       "      <td>0.620000</td>\n",
       "      <td>10.200000</td>\n",
       "      <td>6.000000</td>\n",
       "    </tr>\n",
       "    <tr>\n",
       "      <th>75%</th>\n",
       "      <td>9.200000</td>\n",
       "      <td>0.640000</td>\n",
       "      <td>0.420000</td>\n",
       "      <td>2.600000</td>\n",
       "      <td>0.090000</td>\n",
       "      <td>21.000000</td>\n",
       "      <td>62.000000</td>\n",
       "      <td>0.997835</td>\n",
       "      <td>3.400000</td>\n",
       "      <td>0.730000</td>\n",
       "      <td>11.100000</td>\n",
       "      <td>6.000000</td>\n",
       "    </tr>\n",
       "    <tr>\n",
       "      <th>max</th>\n",
       "      <td>15.900000</td>\n",
       "      <td>1.580000</td>\n",
       "      <td>1.000000</td>\n",
       "      <td>15.500000</td>\n",
       "      <td>0.611000</td>\n",
       "      <td>72.000000</td>\n",
       "      <td>289.000000</td>\n",
       "      <td>1.003690</td>\n",
       "      <td>4.010000</td>\n",
       "      <td>2.000000</td>\n",
       "      <td>14.900000</td>\n",
       "      <td>8.000000</td>\n",
       "    </tr>\n",
       "  </tbody>\n",
       "</table>\n",
       "</div>"
      ],
      "text/plain": [
       "       fixed acidity  volatile acidity  citric acid  residual sugar  \\\n",
       "count    1599.000000       1599.000000  1599.000000     1599.000000   \n",
       "mean        8.319637          0.527821     0.270976        2.538806   \n",
       "std         1.741096          0.179060     0.194801        1.409928   \n",
       "min         4.600000          0.120000     0.000000        0.900000   \n",
       "25%         7.100000          0.390000     0.090000        1.900000   \n",
       "50%         7.900000          0.520000     0.260000        2.200000   \n",
       "75%         9.200000          0.640000     0.420000        2.600000   \n",
       "max        15.900000          1.580000     1.000000       15.500000   \n",
       "\n",
       "         chlorides  free sulfur dioxide  total sulfur dioxide      density  \\\n",
       "count  1599.000000          1599.000000           1599.000000  1599.000000   \n",
       "mean      0.087467            15.874922             46.467792     0.996747   \n",
       "std       0.047065            10.460157             32.895324     0.001887   \n",
       "min       0.012000             1.000000              6.000000     0.990070   \n",
       "25%       0.070000             7.000000             22.000000     0.995600   \n",
       "50%       0.079000            14.000000             38.000000     0.996750   \n",
       "75%       0.090000            21.000000             62.000000     0.997835   \n",
       "max       0.611000            72.000000            289.000000     1.003690   \n",
       "\n",
       "                pH    sulphates      alcohol      quality  \n",
       "count  1599.000000  1599.000000  1599.000000  1599.000000  \n",
       "mean      3.311113     0.658149    10.422983     5.636023  \n",
       "std       0.154386     0.169507     1.065668     0.807569  \n",
       "min       2.740000     0.330000     8.400000     3.000000  \n",
       "25%       3.210000     0.550000     9.500000     5.000000  \n",
       "50%       3.310000     0.620000    10.200000     6.000000  \n",
       "75%       3.400000     0.730000    11.100000     6.000000  \n",
       "max       4.010000     2.000000    14.900000     8.000000  "
      ]
     },
     "execution_count": 4,
     "metadata": {},
     "output_type": "execute_result"
    }
   ],
   "source": [
    "df.describe()"
   ]
  },
  {
   "cell_type": "markdown",
   "metadata": {},
   "source": [
    "Los datos parecen tener estadísticos razonables. No obstante, algunas desviaciones demasiado altas me llaman la atención, así que haré unos boxplot para asegurarme."
   ]
  },
  {
   "cell_type": "code",
   "execution_count": 5,
   "metadata": {},
   "outputs": [
    {
     "data": {
      "image/png": "[encoded data removed]",
      "text/plain": [
       "<Figure size 800x200 with 1 Axes>"
      ]
     },
     "metadata": {},
     "output_type": "display_data"
    },
    {
     "data": {
      "image/png": "[encoded data removed]",
      "text/plain": [
       "<Figure size 800x200 with 1 Axes>"
      ]
     },
     "metadata": {},
     "output_type": "display_data"
    },
    {
     "data": {
      "image/png": "[encoded data removed]",
      "text/plain": [
       "<Figure size 800x200 with 1 Axes>"
      ]
     },
     "metadata": {},
     "output_type": "display_data"
    },
    {
     "data": {
      "image/png": "[encoded data removed]",
      "text/plain": [
       "<Figure size 800x200 with 1 Axes>"
      ]
     },
     "metadata": {},
     "output_type": "display_data"
    },
    {
     "data": {
      "image/png": "[encoded data removed]",
      "text/plain": [
       "<Figure size 800x200 with 1 Axes>"
      ]
     },
     "metadata": {},
     "output_type": "display_data"
    },
    {
     "data": {
      "image/png": "[encoded data removed]",
      "text/plain": [
       "<Figure size 800x200 with 1 Axes>"
      ]
     },
     "metadata": {},
     "output_type": "display_data"
    },
    {
     "data": {
      "image/png": "[encoded data removed]",
      "text/plain": [
       "<Figure size 800x200 with 1 Axes>"
      ]
     },
     "metadata": {},
     "output_type": "display_data"
    }
   ],
   "source": [
    "\n",
    "generate_boxplot_from_list(list(df[\"volatile acidity\"]), \"volatile acidity\")\n",
    "generate_boxplot_from_list(list(df[\"citric acid\"]), \"citric acid\")\n",
    "generate_boxplot_from_list(list(df[\"residual sugar\"]), \"residual sugar\")\n",
    "generate_boxplot_from_list(list(df[\"chlorides\"]), \"chlorides\")\n",
    "generate_boxplot_from_list(list(df[\"free sulfur dioxide\"]), \"free sulfur dioxide\")\n",
    "generate_boxplot_from_list(list(df[\"total sulfur dioxide\"]), \"total sulfur dioxide\")\n",
    "generate_boxplot_from_list(list(df[\"sulphates\"]), \"sulphates\")\n"
   ]
  },
  {
   "cell_type": "markdown",
   "metadata": {},
   "source": [
    "No veo nada extraño a primera instancia. Pero tampoco es que sepa de vinos.\n",
    "\n",
    "Por último, veamos la distribución de la variable dependiente:"
   ]
  },
  {
   "cell_type": "code",
   "execution_count": 6,
   "metadata": {},
   "outputs": [
    {
     "data": {
      "image/png": "[encoded data removed]",
      "text/plain": [
       "<Figure size 640x480 with 1 Axes>"
      ]
     },
     "metadata": {},
     "output_type": "display_data"
    }
   ],
   "source": [
    "\n",
    "plt.hist(df['quality'], bins=range(int(df['quality'].min()), int(df['quality'].max()) + 2), edgecolor='black')\n",
    "plt.title('Distribución de la variable quality')\n",
    "plt.xlabel('Quality')\n",
    "plt.ylabel('Frecuencia')\n",
    "plt.grid(axis='y', linestyle='--', alpha=0.5)\n",
    "plt.tight_layout()\n",
    "plt.show()\n"
   ]
  },
  {
   "cell_type": "markdown",
   "metadata": {},
   "source": [
    "Esto quiere decir que hay un fuerte imbalance de clases. Cómo no hay suficientes datos para recortar, entonces se tendrán que agregar pesos relativos a los distintos valores de quality. Esta es una práctica habitual para el caso de las clasificaciones, pero no tanto así en el caso de las regresiones ya que las mismas son valores continuos. De todas formas, algunas librerías de Python cuentan con herramientas para ponderar la función de pérdida en caso de regresiones, así que elegiremos regresores que cuenten con eso para no tener que programarlo de cero.\n"
   ]
  },
  {
   "cell_type": "markdown",
   "metadata": {},
   "source": [
    "# Análisis"
   ]
  },
  {
   "cell_type": "markdown",
   "metadata": {},
   "source": [
    "### Correlación"
   ]
  },
  {
   "cell_type": "code",
   "execution_count": 7,
   "metadata": {},
   "outputs": [
    {
     "name": "stderr",
     "output_type": "stream",
     "text": [
      "/var/folders/3z/t4hm1r_x1rqdc2q4tp65rsy0gz8k2h/T/ipykernel_29391/475498112.py:14: FutureWarning: \n",
      "\n",
      "Passing `palette` without assigning `hue` is deprecated and will be removed in v0.14.0. Assign the `y` variable to `hue` and set `legend=False` for the same effect.\n",
      "\n",
      "  sns.barplot(x=corrs.values, y=corrs.index, palette='coolwarm')\n"
     ]
    },
    {
     "data": {
      "image/png": "[encoded data removed]",
      "text/plain": [
       "<Figure size 1000x400 with 1 Axes>"
      ]
     },
     "metadata": {},
     "output_type": "display_data"
    }
   ],
   "source": [
    "plot_corr_with_target(df, 'quality')"
   ]
  },
  {
   "cell_type": "markdown",
   "metadata": {},
   "source": [
    "1. Alcohol es la variable más correlacionada con quality.\n",
    "    * Correlación positiva fuerte (~0.45).\n",
    "\n",
    "2. Volatile acidity tiene una fuerte correlación negativa.\n",
    "    * Cuanto más alta, peor la calidad.\n",
    "\n",
    "3. Sulphates, citric acid y total sulfur dioxide también aportan información.\n",
    "\n",
    "4. Residual sugar, free sulfur dioxide, pH, fixed acidity tienen muy poca correlación.\n",
    "    * Prácticamente no aportan señal útil por sí solos respecto a la calidad.\n",
    "    * Pueden descartarse como features si se busca reducir dimensionalidad.\n",
    "\n",
    "5. Curioso que density tenga correlación negativa\n",
    "    * Quizás esté capturando ruido.\n",
    "\n",
    "Conclusión rápida para modelado:\n",
    "Podría quedarme solamente con: alcohol, volatile acidity, sulphates, citric acid y quizás total sulfur dioxide.\n",
    "\n",
    "No obstante, cómo el volumen de datos no es muy grande, utilizaré toda la información."
   ]
  },
  {
   "cell_type": "markdown",
   "metadata": {},
   "source": [
    "### Train & test split"
   ]
  },
  {
   "cell_type": "code",
   "execution_count": 8,
   "metadata": {},
   "outputs": [],
   "source": [
    "\n",
    "#train, test = train_test_split(df, test_size=0.3, random_state=42)\n",
    "train, test = train_test_split(df, test_size=0.3, random_state=42, stratify=df['quality'])\n",
    "\n",
    "\n",
    "X_train = train.drop(columns='quality')\n",
    "y_train = train['quality']\n",
    "X_test = test.drop(columns='quality')\n",
    "y_test = test['quality']"
   ]
  },
  {
   "cell_type": "markdown",
   "metadata": {},
   "source": [
    "### Regresión\n",
    "\n",
    "Utilizaré un modelo simple y un modelo un poco más complejo para hacer la regresión. Cómo modelo simple elegiré la regresión lineal, y como modelo complejo el gradient boosting. \n",
    "\n",
    "Hay muchas formas de ir mejorando de forma iterativa los resultados. Se hará de la siguiente forma:\n",
    "\n",
    "1. Low hanging fruit: Entrenamiento simple\n",
    "\n",
    "2. Sampled weights: Entrenamiento con pesos relativos para contrarrestar el balance de clases\n",
    "\n",
    "3. Grid search - cross validation: Agregamos cross validation como método de validación, y realizamos una optimización de hiperparámetros\n"
   ]
  },
  {
   "cell_type": "markdown",
   "metadata": {},
   "source": [
    "#### Low hanging fruit:\n",
    "\n",
    "Primero realizaré un entrenamiento sin muchas complicaciones, y lo utilizaré de benchmark para mejoras futuras."
   ]
  },
  {
   "cell_type": "code",
   "execution_count": 9,
   "metadata": {},
   "outputs": [
    {
     "name": "stdout",
     "output_type": "stream",
     "text": [
      "RMSE logistic regression: 0.639\n",
      "RMSE gradient boosting:   0.586\n"
     ]
    }
   ],
   "source": [
    "y_pred_lr, y_pred_gb, rmse_lr, rmse_gb = evaluar_modelos_regresion(X_train, X_test, y_train, y_test)"
   ]
  },
  {
   "cell_type": "code",
   "execution_count": 10,
   "metadata": {},
   "outputs": [
    {
     "name": "stdout",
     "output_type": "stream",
     "text": [
      "\n",
      "=== Métricas globales para LINEAR REGRESSION ===\n",
      "Accuracy: 58.33 %\n",
      "Precision macro:    0.463\n",
      "Recall macro:       0.263\n",
      "F1 macro:           0.269\n",
      "\n",
      "--- Métricas por clase ---\n",
      "Clase 3: Precision = 0.000, Recall = 0.000, F1 = 0.000\n",
      "Clase 4: Precision = 1.000, Recall = 0.062, F1 = 0.118\n",
      "Clase 5: Precision = 0.657, Recall = 0.686, F1 = 0.671\n",
      "Clase 6: Precision = 0.518, Recall = 0.677, F1 = 0.587\n",
      "Clase 7: Precision = 0.600, Recall = 0.150, F1 = 0.240\n",
      "Clase 8: Precision = 0.000, Recall = 0.000, F1 = 0.000\n"
     ]
    }
   ],
   "source": [
    "extraer_metricas(y_pred_lr, y_test, \"LINEAR REGRESSION\")"
   ]
  },
  {
   "cell_type": "markdown",
   "metadata": {},
   "source": [
    "El modelo LINEAR REGRESSION está clasificando con bajo accuracy, y además ignorando completamente las clases 3, 4 y 8."
   ]
  },
  {
   "cell_type": "code",
   "execution_count": 11,
   "metadata": {},
   "outputs": [
    {
     "name": "stdout",
     "output_type": "stream",
     "text": [
      "\n",
      "=== Métricas globales para GRADIENT BOOSTING ===\n",
      "Accuracy: 62.92 %\n",
      "Precision macro:    0.304\n",
      "Recall macro:       0.305\n",
      "F1 macro:           0.303\n",
      "\n",
      "--- Métricas por clase ---\n",
      "Clase 3: Precision = 0.000, Recall = 0.000, F1 = 0.000\n",
      "Clase 4: Precision = 0.000, Recall = 0.000, F1 = 0.000\n",
      "Clase 5: Precision = 0.704, Recall = 0.701, F1 = 0.703\n",
      "Clase 6: Precision = 0.588, Recall = 0.693, F1 = 0.636\n",
      "Clase 7: Precision = 0.531, Recall = 0.433, F1 = 0.477\n",
      "Clase 8: Precision = 0.000, Recall = 0.000, F1 = 0.000\n"
     ]
    }
   ],
   "source": [
    "extraer_metricas(y_pred_gb, y_test, \"GRADIENT BOOSTING\")"
   ]
  },
  {
   "cell_type": "markdown",
   "metadata": {},
   "source": [
    "GRADIENT BOOSTING presenta una mejora, al tener mejor accuracy y contemplar la clase 8."
   ]
  },
  {
   "cell_type": "markdown",
   "metadata": {},
   "source": [
    "#### Sampled weights\n",
    "\n",
    "Continuamos con la primera iteración del modelo: Considerar sampled weights para solventar el imbalance de clases."
   ]
  },
  {
   "cell_type": "code",
   "execution_count": 12,
   "metadata": {},
   "outputs": [
    {
     "name": "stdout",
     "output_type": "stream",
     "text": [
      "RMSE logistic regression: 0.877\n",
      "RMSE gradient boosting:   0.636\n"
     ]
    }
   ],
   "source": [
    "y_pred_lr, y_pred_gb, rmse_lr, rmse_gb = evaluar_modelos_regresion(X_train, X_test, y_train, y_test, usar_pesos=True)"
   ]
  },
  {
   "cell_type": "code",
   "execution_count": 13,
   "metadata": {},
   "outputs": [
    {
     "name": "stdout",
     "output_type": "stream",
     "text": [
      "\n",
      "=== Métricas globales para LINEAR REGRESSION ===\n",
      "Accuracy: 45.00 %\n",
      "Precision macro:    0.249\n",
      "Recall macro:       0.271\n",
      "F1 macro:           0.243\n",
      "\n",
      "--- Métricas por clase ---\n",
      "Clase 3: Precision = 0.000, Recall = 0.000, F1 = 0.000\n",
      "Clase 4: Precision = 0.063, Recall = 0.312, F1 = 0.105\n",
      "Clase 5: Precision = 0.573, Recall = 0.520, F1 = 0.545\n",
      "Clase 6: Precision = 0.571, Recall = 0.396, F1 = 0.468\n",
      "Clase 7: Precision = 0.444, Recall = 0.467, F1 = 0.455\n",
      "Clase 8: Precision = 0.091, Recall = 0.200, F1 = 0.125\n"
     ]
    }
   ],
   "source": [
    "extraer_metricas(y_pred_lr, y_test, \"LINEAR REGRESSION\")"
   ]
  },
  {
   "cell_type": "code",
   "execution_count": 14,
   "metadata": {},
   "outputs": [
    {
     "name": "stdout",
     "output_type": "stream",
     "text": [
      "\n",
      "=== Métricas globales para GRADIENT BOOSTING ===\n",
      "Accuracy: 62.08 %\n",
      "Precision macro:    0.399\n",
      "Recall macro:       0.356\n",
      "F1 macro:           0.365\n",
      "\n",
      "--- Métricas por clase ---\n",
      "Clase 3: Precision = 0.000, Recall = 0.000, F1 = 0.000\n",
      "Clase 4: Precision = 0.400, Recall = 0.125, F1 = 0.190\n",
      "Clase 5: Precision = 0.707, Recall = 0.711, F1 = 0.709\n",
      "Clase 6: Precision = 0.573, Recall = 0.635, F1 = 0.602\n",
      "Clase 7: Precision = 0.549, Recall = 0.467, F1 = 0.505\n",
      "Clase 8: Precision = 0.167, Recall = 0.200, F1 = 0.182\n"
     ]
    }
   ],
   "source": [
    "extraer_metricas(y_pred_gb, y_test, \"GRADIENT BOOSTING\")"
   ]
  },
  {
   "cell_type": "markdown",
   "metadata": {},
   "source": [
    "Aquí ocurre una cosa interesante: La calidad del accuracy baja, pero el modelo comienza a ver la clase número 4 también. Esto puede verse rápidamente al observar la mejora de las métricas de precision, recall, y f1 score macro.\n",
    "\n",
    "Consideraré que ambos modelos son mejores que su versión \"low hanging fruit\", y procederé con su siguiente iteración."
   ]
  },
  {
   "cell_type": "markdown",
   "metadata": {},
   "source": [
    "#### Cross validation\n",
    "\n",
    "Para esta parte me limitaré a hacer la cross validation del gradient boosting."
   ]
  },
  {
   "cell_type": "code",
   "execution_count": 15,
   "metadata": {},
   "outputs": [
    {
     "name": "stdout",
     "output_type": "stream",
     "text": [
      "RMSE Gradient Boosting: 0.636\n",
      "Mejores parámetros: {'learning_rate': 0.1, 'max_depth': 6, 'n_estimators': 200}\n"
     ]
    }
   ],
   "source": [
    "\n",
    "param_grid = {\n",
    "            'n_estimators': [10, 100, 200],\n",
    "            'max_depth': [2, 3, 6],\n",
    "            'learning_rate': [0.05, 0.1, 0.2]\n",
    "        }\n",
    "\n",
    "y_pred_gb_cv, rmse_gb_cv = entrenar_gradient_boosting_CV(X_train, X_test, y_train, y_test, param_grid)"
   ]
  },
  {
   "cell_type": "code",
   "execution_count": 16,
   "metadata": {},
   "outputs": [
    {
     "name": "stdout",
     "output_type": "stream",
     "text": [
      "\n",
      "=== Métricas globales para GRADIENT BOOSTING CV ===\n",
      "Accuracy: 62.71 %\n",
      "Precision macro:    0.389\n",
      "Recall macro:       0.347\n",
      "F1 macro:           0.351\n",
      "\n",
      "--- Métricas por clase ---\n",
      "Clase 3: Precision = 0.000, Recall = 0.000, F1 = 0.000\n",
      "Clase 4: Precision = 0.333, Recall = 0.062, F1 = 0.105\n",
      "Clase 5: Precision = 0.705, Recall = 0.725, F1 = 0.715\n",
      "Clase 6: Precision = 0.588, Recall = 0.646, F1 = 0.615\n",
      "Clase 7: Precision = 0.540, Recall = 0.450, F1 = 0.491\n",
      "Clase 8: Precision = 0.167, Recall = 0.200, F1 = 0.182\n"
     ]
    }
   ],
   "source": [
    "extraer_metricas(y_pred_gb_cv, y_test, \"GRADIENT BOOSTING CV\")"
   ]
  },
  {
   "cell_type": "markdown",
   "metadata": {},
   "source": [
    "La mejora no vale la pena la diferencia en costo computacional (casi 20 veces la diferencia en tiempo de ejecución). Además, el F1 score es un poco peor.\n",
    "\n",
    "Terminemos con la parte del regresor, haciendo su matriz de confusión para el modelo que mejor se comporta."
   ]
  },
  {
   "cell_type": "code",
   "execution_count": 17,
   "metadata": {},
   "outputs": [
    {
     "data": {
      "image/png": "[encoded data removed]",
      "text/plain": [
       "<Figure size 640x480 with 2 Axes>"
      ]
     },
     "metadata": {},
     "output_type": "display_data"
    }
   ],
   "source": [
    "plot_confusion_matrix(y_pred_gb_cv, y_test)\n",
    "\n"
   ]
  },
  {
   "cell_type": "markdown",
   "metadata": {},
   "source": [
    "### Clasificación\n",
    "\n",
    "Repetiremos lo mismo de arriba pero esta vez para clasificación. Se utilizarán los clasificadores equivalentes a los regresores: Regresión logística, y Gradient Boosting Classifier.\n",
    "\n",
    "Es de esperar que los resultados sean peores, ya que la calidad tiene una noción de ordinalidad, mientras que la clasificación no tiene en cuenta esto.\n",
    "\n",
    "Seguiremos los pasos de la parte anterior:\n",
    "\n",
    "1. Low hanging fruit: Entrenamiento simple.\n",
    "\n",
    "2. Sampled weights: Esta vez para clasificación.\n",
    "\n",
    "3. Grid Search Cross Validation 2: Más validado que nunca."
   ]
  },
  {
   "cell_type": "code",
   "execution_count": 18,
   "metadata": {},
   "outputs": [],
   "source": [
    "\n",
    "lr_pred, gb_pred = evaluar_modelos_clasificacion(X_train, X_test, y_train)\n",
    "\n",
    "clear_output()\n"
   ]
  },
  {
   "cell_type": "code",
   "execution_count": 19,
   "metadata": {},
   "outputs": [
    {
     "name": "stdout",
     "output_type": "stream",
     "text": [
      "\n",
      "=== Métricas globales para LOGISTIC REGRESSION ===\n",
      "Accuracy: 58.54 %\n",
      "Precision macro:    0.299\n",
      "Recall macro:       0.255\n",
      "F1 macro:           0.254\n",
      "\n",
      "--- Métricas por clase ---\n",
      "Clase 3: Precision = 0.000, Recall = 0.000, F1 = 0.000\n",
      "Clase 4: Precision = 0.000, Recall = 0.000, F1 = 0.000\n",
      "Clase 5: Precision = 0.648, Recall = 0.730, F1 = 0.687\n",
      "Clase 6: Precision = 0.524, Recall = 0.635, F1 = 0.574\n",
      "Clase 7: Precision = 0.625, Recall = 0.167, F1 = 0.263\n",
      "Clase 8: Precision = 0.000, Recall = 0.000, F1 = 0.000\n",
      "\n",
      "=== Métricas globales para GRADIENT BOOSTING ===\n",
      "Accuracy: 65.42 %\n",
      "Precision macro:    0.438\n",
      "Recall macro:       0.353\n",
      "F1 macro:           0.371\n",
      "\n",
      "--- Métricas por clase ---\n",
      "Clase 3: Precision = 0.000, Recall = 0.000, F1 = 0.000\n",
      "Clase 4: Precision = 0.333, Recall = 0.062, F1 = 0.105\n",
      "Clase 5: Precision = 0.705, Recall = 0.760, F1 = 0.731\n",
      "Clase 6: Precision = 0.610, Recall = 0.693, F1 = 0.649\n",
      "Clase 7: Precision = 0.727, Recall = 0.400, F1 = 0.516\n",
      "Clase 8: Precision = 0.250, Recall = 0.200, F1 = 0.222\n"
     ]
    }
   ],
   "source": [
    "\n",
    "extraer_metricas_clasificacion(lr_pred, y_test, \"LOGISTIC REGRESSION\")\n",
    "\n",
    "extraer_metricas_clasificacion(gb_pred, y_test, \"GRADIENT BOOSTING\")"
   ]
  },
  {
   "cell_type": "markdown",
   "metadata": {},
   "source": [
    "Los resultados son buenos para Gradient Boosting. Tiene accuracy alto, y además observa todas las clases (menos la 3)."
   ]
  },
  {
   "cell_type": "markdown",
   "metadata": {},
   "source": [
    "#### Sampled weights"
   ]
  },
  {
   "cell_type": "code",
   "execution_count": 20,
   "metadata": {},
   "outputs": [],
   "source": [
    "\n",
    "lr_pred_weighted, gb_pred_weighted = evaluar_modelos_clasificacion(X_train, X_test, y_train, True)\n",
    "\n",
    "clear_output()\n"
   ]
  },
  {
   "cell_type": "code",
   "execution_count": 21,
   "metadata": {},
   "outputs": [
    {
     "name": "stdout",
     "output_type": "stream",
     "text": [
      "\n",
      "=== Métricas globales para LOGISTIC REGRESSION ===\n",
      "Accuracy: 40.83 %\n",
      "Precision macro:    0.300\n",
      "Recall macro:       0.397\n",
      "F1 macro:           0.276\n",
      "\n",
      "--- Métricas por clase ---\n",
      "Clase 3: Precision = 0.024, Recall = 0.333, F1 = 0.044\n",
      "Clase 4: Precision = 0.083, Recall = 0.375, F1 = 0.136\n",
      "Clase 5: Precision = 0.705, Recall = 0.505, F1 = 0.589\n",
      "Clase 6: Precision = 0.561, Recall = 0.286, F1 = 0.379\n",
      "Clase 7: Precision = 0.382, Recall = 0.483, F1 = 0.426\n",
      "Clase 8: Precision = 0.043, Recall = 0.400, F1 = 0.078\n",
      "\n",
      "=== Métricas globales para GRADIENT BOOSTING ===\n",
      "Accuracy: 64.38 %\n",
      "Precision macro:    0.375\n",
      "Recall macro:       0.343\n",
      "F1 macro:           0.354\n",
      "\n",
      "--- Métricas por clase ---\n",
      "Clase 3: Precision = 0.000, Recall = 0.000, F1 = 0.000\n",
      "Clase 4: Precision = 0.000, Recall = 0.000, F1 = 0.000\n",
      "Clase 5: Precision = 0.706, Recall = 0.740, F1 = 0.722\n",
      "Clase 6: Precision = 0.621, Recall = 0.682, F1 = 0.650\n",
      "Clase 7: Precision = 0.591, Recall = 0.433, F1 = 0.500\n",
      "Clase 8: Precision = 0.333, Recall = 0.200, F1 = 0.250\n"
     ]
    }
   ],
   "source": [
    "\n",
    "extraer_metricas_clasificacion(lr_pred_weighted, y_test, \"LOGISTIC REGRESSION\")\n",
    "\n",
    "extraer_metricas_clasificacion(gb_pred_weighted, y_test, \"GRADIENT BOOSTING\")"
   ]
  },
  {
   "cell_type": "markdown",
   "metadata": {},
   "source": [
    "En este caso, la regresión logística empeoró en accuracy, pero mejoró en F1 score, pero quedándose muy atrás en todos los aspectos con el Gradient Boosting.\n",
    "\n",
    "Por otro lado, el Gradient Boosting empeoró el accuracy, y empeoró en la distinción de clases (puede verse en como comenzó a ignorar la clase 4).\n",
    "\n",
    "A priori puede parecer extraño que teniendo en cuenta los pesos sea peor, pero sto se debe a que, en clasificación, si usás class_weight='balanced', le estás diciendo al modelo:\n",
    "“Prefiero equivocarme en la clase 6 antes que equivocarme en la clase 4, porque hay pocas de 4”. Esto no ocurre en regresión, ya que si una clase tiene pocos valores (ej: quality = 4), eso solo afecta estadísticamente a la predicción, no hay un \"castigo\" por no predecir 4.\n",
    "\n",
    "Por lo tanto, GB sin pesos va ganando. Hagamos el gridsearch con el mismo.\n",
    "\n",
    "(Aclaración, podría ocurrir que GB con pesos sea mejor al usar el grid search, pero no lo tendré en cuenta ya que este notebook se está yendo un poco largo)."
   ]
  },
  {
   "cell_type": "markdown",
   "metadata": {},
   "source": [
    "#### Grid Search\n",
    "\n",
    "Utilizaremos la misma grilla que para el caso de regresión."
   ]
  },
  {
   "cell_type": "code",
   "execution_count": 22,
   "metadata": {},
   "outputs": [
    {
     "name": "stdout",
     "output_type": "stream",
     "text": [
      "Accuracy Gradient Boosting: 63.75 %\n",
      "Mejores parámetros: {'learning_rate': 0.1, 'max_depth': 6, 'n_estimators': 200}\n"
     ]
    }
   ],
   "source": [
    "\n",
    "param_grid = {\n",
    "            'n_estimators': [10, 100, 200],\n",
    "            'max_depth': [2, 3, 6],\n",
    "            'learning_rate': [0.05, 0.1, 0.2]\n",
    "        }\n",
    "\n",
    "\n",
    "y_pred_gb_cv_clasif, rmse_gb_cv = entrenar_gradient_boosting_CV_clasificacion(X_train, X_test, y_train, y_test, param_grid)\n"
   ]
  },
  {
   "cell_type": "code",
   "execution_count": 23,
   "metadata": {},
   "outputs": [
    {
     "name": "stdout",
     "output_type": "stream",
     "text": [
      "\n",
      "=== Métricas globales para GRADIENT BOOSTING CV ===\n",
      "Accuracy: 63.75 %\n",
      "Precision macro:    0.400\n",
      "Recall macro:       0.338\n",
      "F1 macro:           0.355\n",
      "\n",
      "--- Métricas por clase ---\n",
      "Clase 3: Precision = 0.000, Recall = 0.000, F1 = 0.000\n",
      "Clase 4: Precision = 0.000, Recall = 0.000, F1 = 0.000\n",
      "Clase 5: Precision = 0.698, Recall = 0.735, F1 = 0.716\n",
      "Clase 6: Precision = 0.607, Recall = 0.677, F1 = 0.640\n",
      "Clase 7: Precision = 0.595, Recall = 0.417, F1 = 0.490\n",
      "Clase 8: Precision = 0.500, Recall = 0.200, F1 = 0.286\n"
     ]
    }
   ],
   "source": [
    "extraer_metricas(y_pred_gb_cv_clasif, y_test, \"GRADIENT BOOSTING CV\")"
   ]
  },
  {
   "cell_type": "markdown",
   "metadata": {},
   "source": [
    "Hagamos la matriz de confusión con el mejor GB antes de comparar la regresión con la clasificación."
   ]
  },
  {
   "cell_type": "code",
   "execution_count": 24,
   "metadata": {},
   "outputs": [
    {
     "data": {
      "image/png": "[encoded data removed]",
      "text/plain": [
       "<Figure size 640x480 with 2 Axes>"
      ]
     },
     "metadata": {},
     "output_type": "display_data"
    }
   ],
   "source": [
    "plot_confusion_matrix(gb_pred, y_test)\n"
   ]
  },
  {
   "cell_type": "markdown",
   "metadata": {},
   "source": [
    "## Comparación de resultados"
   ]
  },
  {
   "cell_type": "markdown",
   "metadata": {},
   "source": [
    "El modelo GRADIENT BOOSTING de __clasificación__ tiene mejor accuracy y F1 score. Esto se debe a que el modelo de regresión no está optimizado para acertar clases enteras. Está optimizado para minimizar el RMSE, y por lo tanto al llevar a cabo el redondeo empeora la calidad de su predicción.\n",
    "\n",
    "Por lo tanto, el método de clasificación es mejor en este caso, aunque el de regresión contenga \"más información\" al medir la distancia de cada valor al target objetivo. No obstante, no esta información no es de interés para los productores de vino (supongo) que están acostumbrados a una medida discreta de la calidad."
   ]
  },
  {
   "cell_type": "markdown",
   "metadata": {},
   "source": [
    "Por último, hagamos un experimento final con los dos mejores resultados: Qué pasa si discretizo los vinos en 3 clases: bueno - regular - malo?"
   ]
  },
  {
   "cell_type": "code",
   "execution_count": 25,
   "metadata": {},
   "outputs": [
    {
     "name": "stdout",
     "output_type": "stream",
     "text": [
      "RMSE Gradient Boosting: 0.491\n",
      "Mejores parámetros: {'learning_rate': 0.1, 'max_depth': 6, 'n_estimators': 100}\n",
      "\n",
      "=== Métricas globales para GRADIENT BOOSTING CV ===\n",
      "Accuracy: 71.25 %\n",
      "Precision macro:    0.713\n",
      "Recall macro:       0.690\n",
      "F1 macro:           0.699\n",
      "\n",
      "--- Métricas por clase ---\n",
      "Clase 1: Precision = 0.807, Recall = 0.731, F1 = 0.767\n",
      "Clase 2: Precision = 0.629, Recall = 0.724, F1 = 0.673\n",
      "Clase 3: Precision = 0.702, Recall = 0.615, F1 = 0.656\n",
      "Accuracy Gradient Boosting: 73.75 %\n",
      "Mejores parámetros: {'learning_rate': 0.1, 'max_depth': 6, 'n_estimators': 200}\n",
      "\n",
      "=== Métricas globales para GRADIENT BOOSTING CV CLASIFICACION ===\n",
      "Accuracy: 73.75 %\n",
      "Precision macro:    0.721\n",
      "Recall macro:       0.720\n",
      "F1 macro:           0.720\n",
      "\n",
      "--- Métricas por clase ---\n",
      "Clase 1: Precision = 0.789, Recall = 0.807, F1 = 0.798\n",
      "Clase 2: Precision = 0.695, Recall = 0.677, F1 = 0.686\n",
      "Clase 3: Precision = 0.677, Recall = 0.677, F1 = 0.677\n"
     ]
    }
   ],
   "source": [
    "df['quality'] = df['quality'].apply(lambda x: 1 if x in [3, 4, 5] else 2 if x == 6 else 3)\n",
    "\n",
    "\n",
    "#train, test = train_test_split(df, test_size=0.3, random_state=42)\n",
    "train, test = train_test_split(df, test_size=0.3, random_state=42, stratify=df['quality'])\n",
    "\n",
    "\n",
    "X_train = train.drop(columns='quality')\n",
    "y_train = train['quality']\n",
    "X_test = test.drop(columns='quality')\n",
    "y_test = test['quality']\n",
    "\n",
    "\n",
    "param_grid = {\n",
    "            'n_estimators': [10, 100, 200],\n",
    "            'max_depth': [2, 3, 6],\n",
    "            'learning_rate': [0.05, 0.1, 0.2]\n",
    "        }\n",
    "\n",
    "y_pred_gb_cv, rmse_gb_cv = entrenar_gradient_boosting_CV(X_train, X_test, y_train, y_test, param_grid)\n",
    "\n",
    "extraer_metricas(y_pred_gb_cv, y_test, \"GRADIENT BOOSTING CV\")\n",
    "\n",
    "\n",
    "y_pred_gb_cv_clasif, rmse_gb_cv = entrenar_gradient_boosting_CV_clasificacion(X_train, X_test, y_train, y_test, param_grid)\n",
    "\n",
    "extraer_metricas(y_pred_gb_cv_clasif, y_test, \"GRADIENT BOOSTING CV CLASIFICACION\")\n"
   ]
  },
  {
   "cell_type": "markdown",
   "metadata": {},
   "source": [
    "En este caso nuevamente ocurre que la clasificación se comporta mejor que la regresión."
   ]
  }
 ],
 "metadata": {
  "kernelspec": {
   "display_name": "Python 3",
   "language": "python",
   "name": "python3"
  },
  "language_info": {
   "codemirror_mode": {
    "name": "ipython",
    "version": 3
   },
   "file_extension": ".py",
   "mimetype": "text/x-python",
   "name": "python",
   "nbconvert_exporter": "python",
   "pygments_lexer": "ipython3",
   "version": "3.9.18"
  }
 },
 "nbformat": 4,
 "nbformat_minor": 2
}
